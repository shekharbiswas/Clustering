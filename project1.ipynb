{
 "cells": [
  {
   "cell_type": "code",
   "execution_count": null,
   "metadata": {},
   "outputs": [],
   "source": [
    "import pandas as pd\n",
    "import numpy as np\n",
    "\n",
    "# Set the random seed for reproducibility\n",
    "np.random.seed(42)\n",
    "\n",
    "# Number of users\n",
    "num_users = 100\n",
    "\n",
    "# Generate random data for each feature\n",
    "user_ids = np.arange(1, num_users + 1)\n",
    "memory_scores = np.random.randint(40, 101, size=num_users)\n",
    "attention_scores = np.random.randint(40, 101, size=num_users)\n",
    "flexibility_scores = np.random.randint(40, 101, size=num_users)\n",
    "problem_solving_scores = np.random.randint(40, 101, size=num_users)\n",
    "average_response_times = np.round(np.random.uniform(0.8, 2.5, size=num_users), 1)\n",
    "session_frequencies = np.random.randint(1, 9, size=num_users)\n",
    "improvement_rates = np.round(np.random.uniform(0.01, 0.1, size=num_users), 2)\n",
    "\n",
    "# Create a DataFrame\n",
    "data = {\n",
    "    'User_ID': user_ids,\n",
    "    'Memory_Score': memory_scores,\n",
    "    'Attention_Score': attention_scores,\n",
    "    'Flexibility_Score': flexibility_scores,\n",
    "    'Problem_Solving_Score': problem_solving_scores,\n",
    "    'Average_Response_Time': average_response_times,\n",
    "    'Session_Frequency': session_frequencies,\n",
    "    'Improvement_Rate': improvement_rates\n",
    "}\n",
    "\n",
    "df = pd.DataFrame(data)\n",
    "\n",
    "# Display the first few rows of the dataset\n",
    "df.head(2)"
   ]
  },
  {
   "cell_type": "code",
   "execution_count": null,
   "metadata": {},
   "outputs": [],
   "source": []
  }
 ],
 "metadata": {
  "kernelspec": {
   "display_name": "aws",
   "language": "python",
   "name": "python3"
  },
  "language_info": {
   "name": "python",
   "version": "3.10.13"
  }
 },
 "nbformat": 4,
 "nbformat_minor": 2
}
